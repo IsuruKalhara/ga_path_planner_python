{
 "cells": [
  {
   "cell_type": "markdown",
   "metadata": {},
   "source": [
    "## Genetic algorithm based best path finder"
   ]
  },
  {
   "cell_type": "code",
   "execution_count": 110,
   "metadata": {},
   "outputs": [],
   "source": [
    "import numpy as np\n",
    "import random\n"
   ]
  },
  {
   "cell_type": "code",
   "execution_count": 97,
   "metadata": {},
   "outputs": [],
   "source": [
    "class MapObject:\n",
    "    \n",
    "    def __init__(self, size, zero_p):\n",
    "        \n",
    "        self.size = size\n",
    "        self.zero_p = zero_p\n",
    "        \n",
    "        \n",
    "    # This function will generate a map that have \"nodes\" number of nodes and \n",
    "    # 100 - zero_p percentage of connections. Output will be a matrix\n",
    "    \n",
    "    def initialize (self):\n",
    "        \n",
    "        self.path_map = np.random.random((self.size,self.size))\n",
    "        self.path_map = ((self.path_map + self.path_map.T)/2) * 100 + 1\n",
    "        self.path_map = self.path_map.astype(int)\n",
    "    \n",
    "        mask = ((np.random.random((self.size,self.size)) * 100).astype(int) > self.zero_p/2).astype(int)\n",
    "        mask = ((mask + mask.T)/2).astype(int)\n",
    "        np.fill_diagonal(mask, 0)\n",
    "        \n",
    "        self.path_map = np.multiply(self.path_map,mask)"
   ]
  },
  {
   "cell_type": "code",
   "execution_count": 98,
   "metadata": {},
   "outputs": [],
   "source": [
    "class PathObject:\n",
    "    \n",
    "    def __init__(self, path, distance):\n",
    "        \n",
    "        self.path = path\n",
    "        self.distance = distance\n",
    "        "
   ]
  },
  {
   "cell_type": "code",
   "execution_count": 253,
   "metadata": {},
   "outputs": [],
   "source": [
    "# This function will create a path that can go with starting point to the \n",
    "# end point. Node to next node selection will happen with randomness\n",
    "# Output will be a vector\n",
    "\n",
    "def create_new_member(mapObject, start, end):\n",
    "    \n",
    "    path = np.array([start-1])\n",
    "    \n",
    "    while((end-1) not in path):\n",
    "        available_positions = []\n",
    "        \n",
    "        for i in range(mapObject.size):\n",
    "            #print(\"i = \",i,\", m_o.p_m[path.size-1][i] = \",mapObject.path_map[path.size-1][i],\", \",(i not in path))\n",
    "            if((mapObject.path_map[path[path.size-1]][i]!=0) and (i not in path) ) :\n",
    "                available_positions.append(i)\n",
    "\n",
    "        if (len(available_positions) == 0):\n",
    "            print(\"Error in create_new_member\")\n",
    "            return None\n",
    "        \n",
    "        next_position = random.choice(available_positions)\n",
    "        path = np.append(path,next_position)\n",
    "        \n",
    "    pathObject = PathObject(path,calculate_fitness(mapObject,path))\n",
    "    return pathObject\n",
    "    "
   ]
  },
  {
   "cell_type": "code",
   "execution_count": null,
   "metadata": {},
   "outputs": [],
   "source": [
    "# calculate the fitness of each member \n",
    "\n",
    "def calculate_fitness(mapObject, path):\n",
    "    distance = 0\n",
    "    for i in range(path.size - 1):\n",
    "        node_distance=mapObject.path_map[path[i]][path[i+1]]\n",
    "        if(node_distance==0):\n",
    "            print(\"Error in the create_new_member\")\n",
    "        distance += node_distance\n",
    "    return distance\n"
   ]
  },
  {
   "cell_type": "code",
   "execution_count": null,
   "metadata": {},
   "outputs": [],
   "source": [
    "# Use create_new_member function to create \"size\" size population.\n",
    "# This will run only once\n",
    "\n",
    "def create_new_population(mapObject,size,start,end):\n",
    "    population = []\n",
    "    path_list = []\n",
    "    while(len(population)!=size):\n",
    "        new_member = create_new_member(mapObject,start,end)\n",
    "        if(new_member.path.tolist() not in path_list):\n",
    "            population.append(new_member)\n",
    "            path_list.append(new_member.path.tolist())\n",
    "        else:\n",
    "            print(\"Same can be\")\n",
    "    \n",
    "    return population"
   ]
  },
  {
   "cell_type": "code",
   "execution_count": 103,
   "metadata": {},
   "outputs": [
    {
     "name": "stdout",
     "output_type": "stream",
     "text": [
      "[[ 0  0 55 14 34 33 46 54 39 53]\n",
      " [ 0  0 43  0 71 73 45 17  0 76]\n",
      " [55 43  0 83 62 39 67 75 50 54]\n",
      " [14  0 83  0 35 26  0  0 77 50]\n",
      " [34 71 62 35  0 50 21 49 52 59]\n",
      " [33 73 39 26 50  0 86  0 12 39]\n",
      " [46 45 67  0 21 86  0  0 14 34]\n",
      " [54 17 75  0 49  0  0  0 28 36]\n",
      " [39  0 50 77 52 12 14 28  0 25]\n",
      " [53 76 54 50 59 39 34 36 25  0]]\n"
     ]
    }
   ],
   "source": [
    "mapObject = MapObject(10,10)\n",
    "mapObject.initialize()\n",
    "print(mapObject.path_map)"
   ]
  },
  {
   "cell_type": "code",
   "execution_count": 222,
   "metadata": {},
   "outputs": [],
   "source": [
    "first_path = create_new_member(mapObject,1,10)"
   ]
  },
  {
   "cell_type": "code",
   "execution_count": 252,
   "metadata": {},
   "outputs": [
    {
     "name": "stdout",
     "output_type": "stream",
     "text": [
      "Same can be\n",
      "Same can be\n",
      "Same can be\n"
     ]
    },
    {
     "data": {
      "text/plain": [
       "[<__main__.PathObject at 0x7fa8780a2da0>,\n",
       " <__main__.PathObject at 0x7fa8780a2dd8>,\n",
       " <__main__.PathObject at 0x7fa8780a2208>,\n",
       " <__main__.PathObject at 0x7fa8601429b0>,\n",
       " <__main__.PathObject at 0x7fa87b025d30>,\n",
       " <__main__.PathObject at 0x7fa860142f98>,\n",
       " <__main__.PathObject at 0x7fa860142fd0>,\n",
       " <__main__.PathObject at 0x7fa860142e48>,\n",
       " <__main__.PathObject at 0x7fa8601426a0>,\n",
       " <__main__.PathObject at 0x7fa860142860>,\n",
       " <__main__.PathObject at 0x7fa860142ac8>,\n",
       " <__main__.PathObject at 0x7fa860142b70>,\n",
       " <__main__.PathObject at 0x7fa860142320>,\n",
       " <__main__.PathObject at 0x7fa860142550>,\n",
       " <__main__.PathObject at 0x7fa860142e80>,\n",
       " <__main__.PathObject at 0x7fa860142668>,\n",
       " <__main__.PathObject at 0x7fa860142cf8>,\n",
       " <__main__.PathObject at 0x7fa860142eb8>,\n",
       " <__main__.PathObject at 0x7fa860142c50>,\n",
       " <__main__.PathObject at 0x7fa860283780>]"
      ]
     },
     "execution_count": 252,
     "metadata": {},
     "output_type": "execute_result"
    }
   ],
   "source": [
    "create_new_population(mapObject,20,1,10)"
   ]
  },
  {
   "cell_type": "code",
   "execution_count": null,
   "metadata": {},
   "outputs": [],
   "source": [
    "# This will do crossover between given two paths to create a new path\n",
    "\n",
    "def crossover(member1, member2):\n",
    "    return new_member"
   ]
  },
  {
   "cell_type": "code",
   "execution_count": null,
   "metadata": {},
   "outputs": [],
   "source": [
    "# Middle node will be changed and path is generated again from it to end\n",
    "\n",
    "def mutation(member):\n",
    "    return new_member"
   ]
  },
  {
   "cell_type": "code",
   "execution_count": null,
   "metadata": {},
   "outputs": [],
   "source": [
    "# select best candidates from the population\n",
    "\n",
    "def select_candidates(population,size):\n",
    "    return new_population"
   ]
  },
  {
   "cell_type": "code",
   "execution_count": null,
   "metadata": {},
   "outputs": [],
   "source": [
    "\n",
    "\n",
    "def next_generation(population, crossover_p):"
   ]
  }
 ],
 "metadata": {
  "kernelspec": {
   "display_name": "Python 3",
   "language": "python",
   "name": "python3"
  },
  "language_info": {
   "codemirror_mode": {
    "name": "ipython",
    "version": 3
   },
   "file_extension": ".py",
   "mimetype": "text/x-python",
   "name": "python",
   "nbconvert_exporter": "python",
   "pygments_lexer": "ipython3",
   "version": "3.6.9"
  }
 },
 "nbformat": 4,
 "nbformat_minor": 4
}

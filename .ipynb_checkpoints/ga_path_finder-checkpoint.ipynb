{
 "cells": [
  {
   "cell_type": "markdown",
   "metadata": {},
   "source": [
    "## Genetic algorithm based best path finder"
   ]
  },
  {
   "cell_type": "code",
   "execution_count": 244,
   "metadata": {},
   "outputs": [
    {
     "ename": "ModuleNotFoundError",
     "evalue": "No module named 'networkx'",
     "output_type": "error",
     "traceback": [
      "\u001b[0;31m---------------------------------------------------------------------------\u001b[0m",
      "\u001b[0;31mModuleNotFoundError\u001b[0m                       Traceback (most recent call last)",
      "\u001b[0;32m<ipython-input-244-c0a7a9a21041>\u001b[0m in \u001b[0;36m<module>\u001b[0;34m\u001b[0m\n\u001b[1;32m      3\u001b[0m \u001b[0;32mfrom\u001b[0m \u001b[0mstatistics\u001b[0m \u001b[0;32mimport\u001b[0m \u001b[0mmean\u001b[0m\u001b[0;34m\u001b[0m\u001b[0;34m\u001b[0m\u001b[0m\n\u001b[1;32m      4\u001b[0m \u001b[0;32mimport\u001b[0m \u001b[0mmatplotlib\u001b[0m\u001b[0;34m.\u001b[0m\u001b[0mpyplot\u001b[0m \u001b[0;32mas\u001b[0m \u001b[0mplt\u001b[0m\u001b[0;34m\u001b[0m\u001b[0;34m\u001b[0m\u001b[0m\n\u001b[0;32m----> 5\u001b[0;31m \u001b[0;32mimport\u001b[0m \u001b[0mnetworkx\u001b[0m \u001b[0;32mas\u001b[0m \u001b[0mnx\u001b[0m\u001b[0;34m\u001b[0m\u001b[0;34m\u001b[0m\u001b[0m\n\u001b[0m",
      "\u001b[0;31mModuleNotFoundError\u001b[0m: No module named 'networkx'"
     ]
    }
   ],
   "source": [
    "import numpy as np\n",
    "import random\n",
    "from statistics import mean \n",
    "import matplotlib.pyplot as plt\n",
    "import networkx as nx"
   ]
  },
  {
   "cell_type": "code",
   "execution_count": 121,
   "metadata": {},
   "outputs": [],
   "source": [
    "class MapObject:\n",
    "    \n",
    "    def __init__(self, size, zero_p):\n",
    "        \n",
    "        self.size = size\n",
    "        self.zero_p = zero_p\n",
    "        \n",
    "        \n",
    "    # This function will generate a map that have \"nodes\" number of nodes and \n",
    "    # 100 - zero_p percentage of connections. Output will be a matrix\n",
    "    \n",
    "    def initialize (self):\n",
    "        \n",
    "        self.path_map = np.random.random((self.size,self.size))\n",
    "        self.path_map = ((self.path_map + self.path_map.T)/2) * 100 + 1\n",
    "        self.path_map = self.path_map.astype(int)\n",
    "    \n",
    "        mask = ((np.random.random((self.size,self.size)) * 100).astype(int) > self.zero_p/2).astype(int)\n",
    "        mask = ((mask + mask.T)/2).astype(int)\n",
    "        np.fill_diagonal(mask, 0)\n",
    "        \n",
    "        self.path_map = np.multiply(self.path_map,mask)"
   ]
  },
  {
   "cell_type": "code",
   "execution_count": 122,
   "metadata": {},
   "outputs": [],
   "source": [
    "class PathObject:\n",
    "    \n",
    "    def __init__(self, path, distance):\n",
    "        \n",
    "        self.path = path\n",
    "        self.distance = distance\n",
    "        "
   ]
  },
  {
   "cell_type": "code",
   "execution_count": 123,
   "metadata": {},
   "outputs": [],
   "source": [
    "def create_new_path(mapObject, start, end):\n",
    "    path = np.array([start-1])\n",
    "    \n",
    "    while((end-1) not in path):\n",
    "        available_positions = []\n",
    "        \n",
    "        for i in range(mapObject.size):\n",
    "            #print(\"i = \",i,\", m_o.p_m[path.size-1][i] = \",mapObject.path_map[path.size-1][i],\", \",(i not in path))\n",
    "            if((mapObject.path_map[path[path.size-1]][i]!=0) and (i not in path) ) :\n",
    "                available_positions.append(i)\n",
    "        if (len(available_positions) == 0):\n",
    "            return None\n",
    "        \n",
    "        next_position = random.choice(available_positions)\n",
    "        path = np.append(path,next_position)\n",
    "    return path\n",
    "    "
   ]
  },
  {
   "cell_type": "code",
   "execution_count": 124,
   "metadata": {},
   "outputs": [],
   "source": [
    "# This function will create a path that can go with starting point to the \n",
    "# end point. Node to next node selection will happen with randomness\n",
    "# Output will be a vector\n",
    "\n",
    "def create_new_member(mapObject, start, end):\n",
    "    path = create_new_path(mapObject, start, end)\n",
    "    if(path is None):\n",
    "        return None\n",
    "    pathObject = PathObject(path,calculate_fitness(mapObject,path))\n",
    "    return pathObject\n",
    "    "
   ]
  },
  {
   "cell_type": "code",
   "execution_count": 126,
   "metadata": {},
   "outputs": [],
   "source": [
    "# calculate the fitness of each member \n",
    "\n",
    "def calculate_fitness(mapObject, path):\n",
    "    distance = 0\n",
    "    for i in range(path.size - 1):\n",
    "        node_distance=mapObject.path_map[path[i]][path[i+1]]\n",
    "        if(node_distance==0):\n",
    "            print(\"Error in the create_new_member\")\n",
    "        distance += node_distance\n",
    "    return distance\n"
   ]
  },
  {
   "cell_type": "code",
   "execution_count": 128,
   "metadata": {},
   "outputs": [],
   "source": [
    "# Use create_new_member function to create \"size\" size population.\n",
    "# This will run only once\n",
    "\n",
    "def create_new_population(mapObject,size,start,end):\n",
    "    population = []\n",
    "    path_list = []\n",
    "    while(len(population)!=size):\n",
    "        new_member = create_new_member(mapObject,start,end)\n",
    "        if (new_member == None):\n",
    "            #print(\"None can be\")\n",
    "            continue\n",
    "        if(new_member.path.tolist() not in path_list):\n",
    "            population.append(new_member)\n",
    "            path_list.append(new_member.path.tolist())\n",
    "        #else:\n",
    "            #print(\"Same can be\")\n",
    "    \n",
    "    return population"
   ]
  },
  {
   "cell_type": "code",
   "execution_count": 129,
   "metadata": {},
   "outputs": [],
   "source": [
    "# This will do crossover between given two paths to create a new path\n",
    "\n",
    "def crossover(member1, member2,mapObject):\n",
    "    path1 = member1.path\n",
    "    path2 = member2.path\n",
    "    \n",
    "    samenode = []\n",
    "\n",
    "    for i in range(1,path1.size-1):\n",
    "        if path1[i] in path2:\n",
    "            samenode.append(i)\n",
    "    if len(samenode) == 0 :\n",
    "        return None\n",
    "    \n",
    "    #print(\"points : \",samenode)\n",
    "    \n",
    "    break_point = random.choice(samenode)\n",
    "    second_loc = list(np.where(path2 == path1[break_point]))[0][0]\n",
    "    #print(break_point)\n",
    "    \n",
    "    new_path = np.append(path1[0:break_point], path2[second_loc:])\n",
    "    \n",
    "    if(np.unique(new_path).size == new_path.size):\n",
    "        new_member = PathObject(new_path,calculate_fitness(mapObject,new_path))\n",
    "        return new_member\n",
    "    else:\n",
    "        #print(new_path)\n",
    "        return None\n",
    "    "
   ]
  },
  {
   "cell_type": "code",
   "execution_count": 176,
   "metadata": {},
   "outputs": [],
   "source": [
    "# Middle node will be changed and path is generated again from it to end\n",
    "\n",
    "def mutation(member,mapObject):\n",
    "    points = list(range(member.path.size))[1:-1]\n",
    "    if len(points) > 0:\n",
    "        #print(\"path - \",member.path)\n",
    "        break_point = random.choice(points)\n",
    "        #print(\"choi - \", break_point)\n",
    "        #print(member.path[break_point], \", \",member.path[-1])\n",
    "        new_path_part = create_new_path(mapObject,member.path[break_point]+1,member.path[-1]+1)\n",
    "        #print(member.path[0:break_point])\n",
    "        #print(\"new pa - \",new_path_part)\n",
    "        \n",
    "        new_path = np.append(member.path[0:break_point],new_path_part)\n",
    "        \n",
    "        if ( (new_path_part is not None) and (new_path.size == np.unique(new_path).size)):\n",
    "            new_member = PathObject(new_path,calculate_fitness(mapObject,new_path))\n",
    "            return new_member\n",
    "        else:\n",
    "            #print(\"Not good\")\n",
    "            return None\n",
    "            \n",
    "    else:\n",
    "        return None\n",
    "    \n",
    "    "
   ]
  },
  {
   "cell_type": "code",
   "execution_count": 131,
   "metadata": {},
   "outputs": [],
   "source": [
    "# select best candidates from the population\n",
    "\n",
    "def select_candidates(population,size):\n",
    "    population.sort(key = lambda x: x.distance, reverse=False)\n",
    "    return population[0:size]"
   ]
  },
  {
   "cell_type": "code",
   "execution_count": 195,
   "metadata": {},
   "outputs": [],
   "source": [
    "def next_generation(population, size, crossover_p):\n",
    "    new_population = population\n",
    "    item_list = [i.path.tolist() for i in population]\n",
    "    while (len(new_population) <= size):    \n",
    "        if (random.randint(1,100) < crossover_p):\n",
    "            # do crossover\n",
    "            member1 = random.choice(new_population)\n",
    "            member2 = random.choice(new_population)\n",
    "            new_member = crossover(member1, member2, mapObject)\n",
    "            if((new_member is not None) and (new_member.path.tolist() not in item_list)):\n",
    "                new_population.append(new_member)\n",
    "                item_list.append(new_member.path.tolist())\n",
    "        else:\n",
    "            # do mutation\n",
    "            member = random.choice(new_population)\n",
    "            new_member = mutation(member,mapObject)\n",
    "            if((new_member is not None) and (new_member.path.tolist() not in item_list)):\n",
    "                new_population.append(new_member)\n",
    "                item_list.append(new_member.path.tolist())\n",
    "    return new_population\n",
    "    \n",
    "    "
   ]
  },
  {
   "cell_type": "code",
   "execution_count": 133,
   "metadata": {},
   "outputs": [],
   "source": [
    "def average_fitness_of_population(population):\n",
    "    return mean([i.distanc)e for i in population])\n"
   ]
  },
  {
   "cell_type": "code",
   "execution_count": 223,
   "metadata": {},
   "outputs": [],
   "source": [
    "mapObject = MapObject(100,50)\n",
    "mapObject.initialize()"
   ]
  },
  {
   "cell_type": "code",
   "execution_count": 242,
   "metadata": {},
   "outputs": [],
   "source": [
    "def evaluation(size,mapObject,start,end,crossover_p,generations):\n",
    "    population = create_new_population(mapObject,size,start,end)\n",
    "    print(\"Start average distance: \",average_fitness_of_population(population))\n",
    "    dataAverage = []\n",
    "    shortestPath = []\n",
    "    for i in range(generations):\n",
    "        population = next_generation(population,size*2,crossover_p)\n",
    "        population = select_candidates(population,20)\n",
    "        dataAverage.append(average_fitness_of_population(population))\n",
    "        shortestPath.append(population[0].distance)\n",
    "        print(population[0].distance)\n",
    "    \n",
    "    plt.plot(dataAverage)\n",
    "    # naming the x axis \n",
    "    plt.xlabel(\"generation\") \n",
    "    # naming the y axis \n",
    "    plt.ylabel(\"distance\") \n",
    "    plt.title('Average distance throgh each generation') \n",
    "    \n",
    "    fig = plt.figure()\n",
    "    \n",
    "    plt.plot(shortestPath)\n",
    "    # naming the x axis \n",
    "    plt.xlabel(\"generation\") \n",
    "    # naming the y axis \n",
    "    plt.ylabel(\"shortest distance in each population\") \n",
    "    plt.title('Shortest distance throgh each generation') "
   ]
  },
  {
   "cell_type": "code",
   "execution_count": 243,
   "metadata": {},
   "outputs": [
    {
     "name": "stdout",
     "output_type": "stream",
     "text": [
      "Start average distance:  2550\n",
      "141\n",
      "141\n",
      "141\n",
      "141\n",
      "123\n",
      "123\n",
      "123\n",
      "123\n",
      "123\n",
      "123\n",
      "123\n",
      "123\n",
      "79\n",
      "79\n",
      "79\n",
      "79\n",
      "76\n",
      "76\n",
      "76\n",
      "76\n",
      "76\n",
      "76\n",
      "76\n",
      "76\n",
      "76\n",
      "76\n",
      "76\n",
      "76\n",
      "76\n",
      "76\n",
      "76\n",
      "76\n",
      "76\n",
      "76\n",
      "76\n",
      "76\n",
      "76\n",
      "76\n",
      "76\n",
      "76\n",
      "76\n",
      "76\n",
      "76\n",
      "76\n",
      "76\n",
      "76\n",
      "76\n",
      "76\n",
      "76\n",
      "76\n",
      "76\n",
      "76\n",
      "76\n",
      "76\n",
      "76\n",
      "76\n",
      "76\n",
      "76\n",
      "76\n",
      "76\n",
      "76\n",
      "76\n",
      "76\n",
      "76\n",
      "76\n",
      "76\n",
      "76\n",
      "76\n",
      "76\n",
      "76\n",
      "76\n",
      "76\n",
      "76\n",
      "76\n",
      "76\n",
      "76\n",
      "76\n",
      "76\n",
      "76\n",
      "76\n",
      "76\n",
      "76\n",
      "76\n",
      "76\n",
      "76\n",
      "76\n",
      "76\n",
      "76\n",
      "76\n",
      "76\n",
      "76\n",
      "76\n",
      "76\n",
      "76\n",
      "76\n",
      "76\n",
      "76\n",
      "76\n",
      "76\n",
      "76\n"
     ]
    },
    {
     "data": {
      "image/png": "[encoded data removed]",
      "text/plain": [
       "<Figure size 432x288 with 1 Axes>"
      ]
     },
     "metadata": {
      "needs_background": "light"
     },
     "output_type": "display_data"
    },
    {
     "data": {
      "image/png": "[encoded data removed]",
      "text/plain": [
       "<Figure size 432x288 with 1 Axes>"
      ]
     },
     "metadata": {
      "needs_background": "light"
     },
     "output_type": "display_data"
    }
   ],
   "source": [
    "evaluation(50,mapObject,1,100,90,100)"
   ]
  }
 ],
 "metadata": {
  "kernelspec": {
   "display_name": "Python 3",
   "language": "python",
   "name": "python3"
  },
  "language_info": {
   "codemirror_mode": {
    "name": "ipython",
    "version": 3
   },
   "file_extension": ".py",
   "mimetype": "text/x-python",
   "name": "python",
   "nbconvert_exporter": "python",
   "pygments_lexer": "ipython3",
   "version": "3.6.9"
  }
 },
 "nbformat": 4,
 "nbformat_minor": 4
}
